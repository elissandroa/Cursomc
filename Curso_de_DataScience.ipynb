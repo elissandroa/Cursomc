{
  "nbformat": 4,
  "nbformat_minor": 0,
  "metadata": {
    "colab": {
      "provenance": [],
      "authorship_tag": "ABX9TyPR3M359OuDBugWCf9ZQV0m",
      "include_colab_link": true
    },
    "kernelspec": {
      "name": "python3",
      "display_name": "Python 3"
    },
    "language_info": {
      "name": "python"
    }
  },
  "cells": [
    {
      "cell_type": "markdown",
      "metadata": {
        "id": "view-in-github",
        "colab_type": "text"
      },
      "source": [
        "<a href=\"https://colab.research.google.com/github/elissandroa/Cursomc/blob/main/Curso_de_DataScience.ipynb\" target=\"_parent\"><img src=\"https://colab.research.google.com/assets/colab-badge.svg\" alt=\"Open In Colab\"/></a>"
      ]
    },
    {
      "cell_type": "code",
      "execution_count": 1,
      "metadata": {
        "id": "vww0e8f1hcX_"
      },
      "outputs": [],
      "source": [
        "import numpy as np\n",
        "from sklearn.linear_model import LinearRegression"
      ]
    },
    {
      "cell_type": "code",
      "source": [
        "quantidade = int((input(\"Informe a quantidade de variáveis do modelo: \")))\n",
        "x_ = list(range(0,quantidade))\n",
        "y_ = list(range(0,quantidade))\n",
        "print(\"Informe as \",quantidade, \" variáveis dependentes: \")\n",
        "for n in range(0,quantidade):\n",
        "  print(f\"Informe o valor {n+1}\")\n",
        "  y_[n] = int(input())\n",
        "\n",
        "print(\"Informe as \",quantidade, \" variáveis independentes: \")\n",
        "for n in range(0,quantidade):\n",
        "  print(f\"Informe o valor {n+1}\")\n",
        "  x_[n] = int(input())  \n",
        "\n",
        "print(\"Informe o valor que quer prever: \")\n",
        "prev = list(range(0,1))\n",
        "prev[0] = int(input())\n",
        "\n",
        "x_ = np.asarray(x_)\n",
        "x_ = x_.reshape(-1,1)\n",
        "y_ = np.asarray(y_)\n",
        "\n",
        "modelo  = LinearRegression()\n",
        "modelo.fit(x_, y_)\n",
        "prev = np.asarray(prev)\n",
        "prev = prev.reshape(-1,1)\n",
        "\n",
        "resp = modelo.predict(prev.reshape(-1,1))\n",
        "print(f\"Resultado da previsão: {resp}\")\n"
      ],
      "metadata": {
        "colab": {
          "base_uri": "https://localhost:8080/"
        },
        "id": "mrK8v7juhmRP",
        "outputId": "e4397180-92af-412a-d627-5c966fcaa819"
      },
      "execution_count": 2,
      "outputs": [
        {
          "output_type": "stream",
          "name": "stdout",
          "text": [
            "Informe a quantidade de variáveis do modelo: 11\n",
            "Informe as  11  variáveis dependentes: \n",
            "Informe o valor 1\n",
            "871\n",
            "Informe o valor 2\n",
            "1100\n",
            "Informe o valor 3\n",
            "1393\n",
            "Informe o valor 4\n",
            "1654\n",
            "Informe o valor 5\n",
            "1915\n",
            "Informe o valor 6\n",
            "2100\n",
            "Informe o valor 7\n",
            "2356\n",
            "Informe o valor 8\n",
            "2698\n",
            "Informe o valor 9\n",
            "2959\n",
            "Informe o valor 10\n",
            "3000\n",
            "Informe o valor 11\n",
            "3100\n",
            "Informe as  11  variáveis independentes: \n",
            "Informe o valor 1\n",
            "18\n",
            "Informe o valor 2\n",
            "23\n",
            "Informe o valor 3\n",
            "25\n",
            "Informe o valor 4\n",
            "33\n",
            "Informe o valor 5\n",
            "34\n",
            "Informe o valor 6\n",
            "43\n",
            "Informe o valor 7\n",
            "48\n",
            "Informe o valor 8\n",
            "51\n",
            "Informe o valor 9\n",
            "58\n",
            "Informe o valor 10\n",
            "63\n",
            "Informe o valor 11\n",
            "67\n",
            "Informe o valor que quer prever: \n",
            "54\n",
            "Resultado da previsão: [2657.35947607]\n"
          ]
        }
      ]
    }
  ]
}